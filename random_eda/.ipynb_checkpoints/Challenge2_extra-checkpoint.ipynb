{
 "cells": [
  {
   "cell_type": "code",
   "execution_count": 95,
   "metadata": {
    "collapsed": true
   },
   "outputs": [],
   "source": [
    "#import libraries\n",
    "import numpy as np\n",
    "import pandas as pd\n",
    "import seaborn as sns\n",
    "import matplotlib.pyplot as plt\n",
    "%matplotlib inline"
   ]
  },
  {
   "cell_type": "code",
   "execution_count": 96,
   "metadata": {
    "collapsed": true
   },
   "outputs": [],
   "source": [
    "dataset = pd.read_json('https://api.github.com/repos/d3/d3/commits?since=2017-01-01T00:00:00Z&until=2017-12-31T23:59:59Z&per_page=100')\n",
    "pd.set_option('display.max_colwidth', -1)\n",
    "commit = pd.read_json( (dataset['commit']).to_json(), orient='index') #commit df\n",
    "author = pd.read_json( (commit['author']).to_json(), orient='index') #author df\n",
    "author['week'] = author['date'].dt.week"
   ]
  },
  {
   "cell_type": "markdown",
   "metadata": {},
   "source": [
    "Q: over the last year what day of the week had the most commits?\n",
    "\n",
    "A: Friday"
   ]
  },
  {
   "cell_type": "code",
   "execution_count": 97,
   "metadata": {},
   "outputs": [],
   "source": [
    "author['weekday'] = author['date'].dt.weekday_name"
   ]
  },
  {
   "cell_type": "code",
   "execution_count": 98,
   "metadata": {},
   "outputs": [
    {
     "data": {
      "text/html": [
       "<div>\n",
       "<style>\n",
       "    .dataframe thead tr:only-child th {\n",
       "        text-align: right;\n",
       "    }\n",
       "\n",
       "    .dataframe thead th {\n",
       "        text-align: left;\n",
       "    }\n",
       "\n",
       "    .dataframe tbody tr th {\n",
       "        vertical-align: top;\n",
       "    }\n",
       "</style>\n",
       "<table border=\"1\" class=\"dataframe\">\n",
       "  <thead>\n",
       "    <tr style=\"text-align: right;\">\n",
       "      <th></th>\n",
       "      <th>date</th>\n",
       "      <th>email</th>\n",
       "      <th>name</th>\n",
       "      <th>week</th>\n",
       "      <th>weekday</th>\n",
       "    </tr>\n",
       "  </thead>\n",
       "  <tbody>\n",
       "    <tr>\n",
       "      <th>0</th>\n",
       "      <td>2017-12-26 21:52:07</td>\n",
       "      <td>mbostock@gmail.com</td>\n",
       "      <td>Mike Bostock</td>\n",
       "      <td>52</td>\n",
       "      <td>Tuesday</td>\n",
       "    </tr>\n",
       "    <tr>\n",
       "      <th>1</th>\n",
       "      <td>2017-12-26 21:52:06</td>\n",
       "      <td>mbostock@gmail.com</td>\n",
       "      <td>Mike Bostock</td>\n",
       "      <td>52</td>\n",
       "      <td>Tuesday</td>\n",
       "    </tr>\n",
       "    <tr>\n",
       "      <th>10</th>\n",
       "      <td>2017-07-07 18:16:53</td>\n",
       "      <td>alex.macy@gmail.com</td>\n",
       "      <td>alexmacy</td>\n",
       "      <td>27</td>\n",
       "      <td>Friday</td>\n",
       "    </tr>\n",
       "    <tr>\n",
       "      <th>11</th>\n",
       "      <td>2017-09-03 18:25:46</td>\n",
       "      <td>mbostock@gmail.com</td>\n",
       "      <td>Mike Bostock</td>\n",
       "      <td>35</td>\n",
       "      <td>Sunday</td>\n",
       "    </tr>\n",
       "    <tr>\n",
       "      <th>12</th>\n",
       "      <td>2017-09-03 18:25:39</td>\n",
       "      <td>mbostock@gmail.com</td>\n",
       "      <td>Mike Bostock</td>\n",
       "      <td>35</td>\n",
       "      <td>Sunday</td>\n",
       "    </tr>\n",
       "  </tbody>\n",
       "</table>\n",
       "</div>"
      ],
      "text/plain": [
       "                  date                email          name  week  weekday\n",
       "0  2017-12-26 21:52:07  mbostock@gmail.com   Mike Bostock  52    Tuesday\n",
       "1  2017-12-26 21:52:06  mbostock@gmail.com   Mike Bostock  52    Tuesday\n",
       "10 2017-07-07 18:16:53  alex.macy@gmail.com  alexmacy      27    Friday \n",
       "11 2017-09-03 18:25:46  mbostock@gmail.com   Mike Bostock  35    Sunday \n",
       "12 2017-09-03 18:25:39  mbostock@gmail.com   Mike Bostock  35    Sunday "
      ]
     },
     "execution_count": 98,
     "metadata": {},
     "output_type": "execute_result"
    }
   ],
   "source": [
    "author.head()"
   ]
  },
  {
   "cell_type": "code",
   "execution_count": 99,
   "metadata": {},
   "outputs": [
    {
     "data": {
      "text/plain": [
       "Friday       13\n",
       "Tuesday      12\n",
       "Saturday     10\n",
       "Sunday       8 \n",
       "Monday       6 \n",
       "Thursday     6 \n",
       "Wednesday    4 \n",
       "Name: weekday, dtype: int64"
      ]
     },
     "execution_count": 99,
     "metadata": {},
     "output_type": "execute_result"
    }
   ],
   "source": [
    "weekdays = author['weekday'].value_counts()\n",
    "weekdays"
   ]
  },
  {
   "cell_type": "code",
   "execution_count": 100,
   "metadata": {},
   "outputs": [],
   "source": [
    "weekdays = pd.Categorical(author['weekday'], categories=['Monday','Tuesday','Wednesday','Thursday','Friday','Saturday', 'Sunday'], ordered=True)"
   ]
  },
  {
   "cell_type": "code",
   "execution_count": 101,
   "metadata": {},
   "outputs": [
    {
     "data": {
      "text/plain": [
       "[Tuesday, Tuesday, Friday, Sunday, Sunday, ..., Friday, Tuesday, Tuesday, Saturday, Saturday]\n",
       "Length: 59\n",
       "Categories (7, object): [Monday < Tuesday < Wednesday < Thursday < Friday < Saturday < Sunday]"
      ]
     },
     "execution_count": 101,
     "metadata": {},
     "output_type": "execute_result"
    }
   ],
   "source": [
    "weekdays"
   ]
  },
  {
   "cell_type": "code",
   "execution_count": 102,
   "metadata": {},
   "outputs": [
    {
     "data": {
      "text/plain": [
       "Monday       6 \n",
       "Tuesday      12\n",
       "Wednesday    4 \n",
       "Thursday     6 \n",
       "Friday       13\n",
       "Saturday     10\n",
       "Sunday       8 \n",
       "dtype: int64"
      ]
     },
     "execution_count": 102,
     "metadata": {},
     "output_type": "execute_result"
    }
   ],
   "source": [
    "weekdays_sorted = weekdays.value_counts()\n",
    "weekdays_sorted"
   ]
  },
  {
   "cell_type": "markdown",
   "metadata": {},
   "source": [
    "Graph the number of commits per day of the week"
   ]
  },
  {
   "cell_type": "code",
   "execution_count": 116,
   "metadata": {
    "scrolled": false
   },
   "outputs": [
    {
     "data": {
      "text/plain": [
       "<matplotlib.text.Text at 0x11e842f60>"
      ]
     },
     "execution_count": 116,
     "metadata": {},
     "output_type": "execute_result"
    },
    {
     "data": {
      "image/png": "[encoded data removed]",
      "text/plain": [
       "<matplotlib.figure.Figure at 0x11e7c2d30>"
      ]
     },
     "metadata": {},
     "output_type": "display_data"
    }
   ],
   "source": [
    "weekdays_sorted.plot(kind='bar', color='green', figsize = (10,5))\n",
    "plt.xlabel('Day of week')\n",
    "plt.ylabel('# of commits')\n",
    "plt.title('D3 commits by day of week in 2017')"
   ]
  },
  {
   "cell_type": "markdown",
   "metadata": {},
   "source": [
    "\n"
   ]
  },
  {
   "cell_type": "code",
   "execution_count": null,
   "metadata": {
    "collapsed": true
   },
   "outputs": [],
   "source": []
  },
  {
   "cell_type": "code",
   "execution_count": null,
   "metadata": {
    "collapsed": true
   },
   "outputs": [],
   "source": []
  },
  {
   "cell_type": "markdown",
   "metadata": {},
   "source": [
    "Some other insight about d3 repo:\n",
    "Mike Bostock is the main commiter"
   ]
  },
  {
   "cell_type": "code",
   "execution_count": 114,
   "metadata": {},
   "outputs": [
    {
     "data": {
      "text/plain": [
       "Mike Bostock       52\n",
       "alexmacy           3 \n",
       "Elena Glassman     1 \n",
       "Curran Kelleher    1 \n",
       "Micah Stubbs       1 \n",
       "David Ollerhead    1 \n",
       "Name: name, dtype: int64"
      ]
     },
     "execution_count": 114,
     "metadata": {},
     "output_type": "execute_result"
    }
   ],
   "source": [
    "author.name.value_counts()"
   ]
  },
  {
   "cell_type": "code",
   "execution_count": null,
   "metadata": {
    "collapsed": true
   },
   "outputs": [],
   "source": []
  }
 ],
 "metadata": {
  "kernelspec": {
   "display_name": "Python 3",
   "language": "python",
   "name": "python3"
  },
  "language_info": {
   "codemirror_mode": {
    "name": "ipython",
    "version": 3
   },
   "file_extension": ".py",
   "mimetype": "text/x-python",
   "name": "python",
   "nbconvert_exporter": "python",
   "pygments_lexer": "ipython3",
   "version": "3.6.1"
  }
 },
 "nbformat": 4,
 "nbformat_minor": 2
}
